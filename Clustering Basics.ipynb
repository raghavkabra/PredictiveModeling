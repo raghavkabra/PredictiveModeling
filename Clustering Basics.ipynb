{
 "cells": [
  {
   "cell_type": "code",
   "execution_count": null,
   "metadata": {
    "collapsed": true
   },
   "outputs": [],
   "source": [
    "import pandas as pd\n",
    "votes=pd.read_csv(\"114_congress.csv\")\n",
    "print(votes.head(10))\n",
    "print(votes.shape)\n",
    "\n",
    "print(votes[\"party\"].value_counts())\n",
    "print(votes.mean())"
   ]
  },
  {
   "cell_type": "code",
   "execution_count": null,
   "metadata": {
    "collapsed": true
   },
   "outputs": [],
   "source": [
    "from sklearn.metrics.pairwise import euclidean_distances\n",
    "\n",
    "print(euclidean_distances(votes.iloc[0,3:], votes.iloc[1,3:]))\n",
    "distance = euclidean_distances(votes.iloc[0,3:], votes.iloc[2,3:])"
   ]
  },
  {
   "cell_type": "code",
   "execution_count": null,
   "metadata": {
    "collapsed": true
   },
   "outputs": [],
   "source": [
    "import pandas as pd\n",
    "from sklearn.cluster import KMeans\n",
    "\n",
    "kmeans_model = KMeans(n_clusters=2, random_state=1)\n",
    "senator_distances = kmeans_model.fit_transform(votes.iloc[:, 3:])\n",
    "print (senator_distances)\n",
    "labels = kmeans_model.labels_\n",
    "print(labels)\n",
    "print(pd.crosstab(labels, votes[\"party\"]))\n",
    "\n",
    "democratic_outliers = votes[(labels == 1) & (votes[\"party\"] == \"D\")]\n",
    "print(democratic_outliers)\n",
    "\n",
    "\n",
    "plt.scatter(x=senator_distances[:,0], y=senator_distances[:,1], c=labels)\n",
    "plt.show()\n",
    "extremism = (senator_distances ** 3).sum(axis=1)\n",
    "votes[\"extremism\"] = extremism\n",
    "votes.sort(\"extremism\", inplace=True, ascending=False)\n",
    "print(votes.head(10))"
   ]
  },
  {
   "cell_type": "code",
   "execution_count": null,
   "metadata": {
    "collapsed": true
   },
   "outputs": [],
   "source": [
    "labels = kmeans_model.labels_\n",
    "print(labels)\n",
    "print(pd.crosstab(labels, votes[\"party\"]))"
   ]
  },
  {
   "cell_type": "code",
   "execution_count": null,
   "metadata": {
    "collapsed": true
   },
   "outputs": [],
   "source": [
    ".\n",
    "Clustering overview\n",
    "2.\n",
    "The dataset\n",
    "3.\n",
    "Exploring the data\n",
    "4.\n",
    "Distance between Senators\n",
    "5.\n",
    "Initial clustering\n",
    "6.\n",
    "Exploring the clusters\n",
    "7.\n",
    "Exploring Senators in the wrong cluster\n",
    "8.\n",
    "Plotting out the clusters\n",
    "9.\n",
    "Finding the most extreme\n",
    "10.\n"
   ]
  },
  {
   "cell_type": "code",
   "execution_count": null,
   "metadata": {
    "collapsed": true
   },
   "outputs": [],
   "source": [
    "#We'll use the KMeans class from scikit-learn to perform the clustering.\n",
    "#Because we aren't predicting anything, there's no risk of overfitting, \n",
    "#so we'll train our model on the whole dataset. After training, we'll be able \n",
    "#to extract cluster labels that indicate what cluster each Senator belongs to."
   ]
  }
 ],
 "metadata": {
  "kernelspec": {
   "display_name": "Python 2",
   "language": "python",
   "name": "python2"
  },
  "language_info": {
   "codemirror_mode": {
    "name": "ipython",
    "version": 2
   },
   "file_extension": ".py",
   "mimetype": "text/x-python",
   "name": "python",
   "nbconvert_exporter": "python",
   "pygments_lexer": "ipython2",
   "version": "2.7.10"
  }
 },
 "nbformat": 4,
 "nbformat_minor": 0
}
